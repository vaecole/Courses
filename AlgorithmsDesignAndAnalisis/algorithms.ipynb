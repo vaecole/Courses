{
 "cells": [
  {
   "cell_type": "code",
   "execution_count": 1,
   "metadata": {},
   "outputs": [],
   "source": [
    "import numpy as np\n",
    "\n",
    "def longest_sub_seqs_dp(x, y):\n",
    "    m=len(x)\n",
    "    n=len(y)\n",
    "    c=np.zeros((m,n))\n",
    "    \n",
    "    for i in range(m):\n",
    "        for j in range(n):\n",
    "            if x[i]==y[j]:\n",
    "                if i*j==0:  # for these edge nodes, there is no c[i-1, j-1], means 0+1\n",
    "                    c[i,j]=1\n",
    "                else:\n",
    "                    c[i,j]=c[i-1,j-1]+1\n",
    "            else:\n",
    "                c[i,j]=max(c[i-1,j], c[i,j-1])\n",
    "    return int(c[m-1,n-1])"
   ]
  },
  {
   "cell_type": "code",
   "execution_count": 2,
   "metadata": {},
   "outputs": [
    {
     "data": {
      "text/plain": [
       "5"
      ]
     },
     "execution_count": 2,
     "metadata": {},
     "output_type": "execute_result"
    }
   ],
   "source": [
    "X=[1,2,3,4,3,2,1,7,8,9]\n",
    "Y=[3,3,2,1,9,8,7]\n",
    "longest_sub_seqs_dp(X,Y)"
   ]
  },
  {
   "cell_type": "code",
   "execution_count": 116,
   "metadata": {},
   "outputs": [
    {
     "data": {
      "text/plain": [
       "6"
      ]
     },
     "execution_count": 116,
     "metadata": {},
     "output_type": "execute_result"
    }
   ],
   "source": [
    "import numpy as np\n",
    "\n",
    "\n",
    "x='w'\n",
    "y='word'\n",
    "\n",
    "a=1  # mismatch penalty\n",
    "b=2  # gap penalty\n",
    "\n",
    "m=len(x)\n",
    "n=len(y)\n",
    "p=np.zeros((m,n)).astype('int')\n",
    "\n",
    "for i in range(m):\n",
    "    for j in range(n):\n",
    "        if i*j==0:\n",
    "            p_align = (0 if x[i]==y[j] else a)+b*max(i,j)\n",
    "            last = p[i-1,j] if i>j else p[i,j-1]\n",
    "            p_not_align = b + last\n",
    "        else:\n",
    "            p_align= (0 if x[i]==y[j] else a) + p[i-1, j-1]\n",
    "            p_not_align = b + min(p[i-1,j], p[i,j-1])\n",
    "        \n",
    "        p[i,j] = min(p_align, p_not_align)\n",
    "        \n",
    "p[m-1,n-1]"
   ]
  },
  {
   "cell_type": "code",
   "execution_count": null,
   "metadata": {},
   "outputs": [],
   "source": []
  },
  {
   "cell_type": "code",
   "execution_count": null,
   "metadata": {},
   "outputs": [],
   "source": []
  }
 ],
 "metadata": {
  "kernelspec": {
   "display_name": "Python 3",
   "language": "python",
   "name": "python3"
  },
  "language_info": {
   "codemirror_mode": {
    "name": "ipython",
    "version": 3
   },
   "file_extension": ".py",
   "mimetype": "text/x-python",
   "name": "python",
   "nbconvert_exporter": "python",
   "pygments_lexer": "ipython3",
   "version": "3.8.3"
  }
 },
 "nbformat": 4,
 "nbformat_minor": 4
}
