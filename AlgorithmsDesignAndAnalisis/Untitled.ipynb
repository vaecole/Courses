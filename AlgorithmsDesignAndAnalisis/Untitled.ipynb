{
 "cells": [
  {
   "cell_type": "code",
   "execution_count": 1,
   "metadata": {},
   "outputs": [],
   "source": [
    "G = {\n",
    "    \"A\" : [\"B\", \"C\", \"D\"],\n",
    "    \"B\" : [\"A\", \"E\"],\n",
    "    \"C\" : [\"A\", \"E\"],\n",
    "    \"D\" : [\"A\", \"G\"],\n",
    "    \"E\" : [\"B\", \"C\", \"F\", \"G\"],\n",
    "    \"F\" : [\"E\", \"G\"],\n",
    "    \"G\" : [\"D\", \"E\", \"F\"]\n",
    "}"
   ]
  },
  {
   "cell_type": "code",
   "execution_count": 2,
   "metadata": {},
   "outputs": [
    {
     "data": {
      "text/plain": [
       "{'A': ['B', 'C', 'D'],\n",
       " 'B': ['A', 'E'],\n",
       " 'C': ['A', 'E'],\n",
       " 'D': ['A', 'G'],\n",
       " 'E': ['B', 'C', 'F', 'G'],\n",
       " 'F': ['E', 'G'],\n",
       " 'G': ['D', 'E', 'F']}"
      ]
     },
     "execution_count": 2,
     "metadata": {},
     "output_type": "execute_result"
    }
   ],
   "source": [
    "G"
   ]
  },
  {
   "cell_type": "code",
   "execution_count": 3,
   "metadata": {},
   "outputs": [],
   "source": [
    "# tree\n",
    "T  = {\n",
    "    \"A\" : (None, [\"B\", \"C\", \"D\"]),\n",
    "    \"B\" : (\"A\", []),\n",
    "    \"C\" : (\"A\", [\"E\",]),\n",
    "    \"D\" : (\"A\", []),\n",
    "    \"E\" : (\"C\", [\"F\", \"G\"]),\n",
    "    \"F\" : (\"E\", []),\n",
    "    \"G\" : (\"E\", []),\n",
    "}"
   ]
  },
  {
   "cell_type": "code",
   "execution_count": 4,
   "metadata": {},
   "outputs": [
    {
     "data": {
      "text/plain": [
       "{'A': (None, ['B', 'C', 'D']),\n",
       " 'B': ('A', []),\n",
       " 'C': ('A', ['E']),\n",
       " 'D': ('A', []),\n",
       " 'E': ('C', ['F', 'G']),\n",
       " 'F': ('E', []),\n",
       " 'G': ('E', [])}"
      ]
     },
     "execution_count": 4,
     "metadata": {},
     "output_type": "execute_result"
    }
   ],
   "source": [
    "T"
   ]
  },
  {
   "cell_type": "code",
   "execution_count": null,
   "metadata": {},
   "outputs": [],
   "source": []
  }
 ],
 "metadata": {
  "kernelspec": {
   "display_name": "Python 3",
   "language": "python",
   "name": "python3"
  },
  "language_info": {
   "codemirror_mode": {
    "name": "ipython",
    "version": 3
   },
   "file_extension": ".py",
   "mimetype": "text/x-python",
   "name": "python",
   "nbconvert_exporter": "python",
   "pygments_lexer": "ipython3",
   "version": "3.8.3"
  }
 },
 "nbformat": 4,
 "nbformat_minor": 4
}
