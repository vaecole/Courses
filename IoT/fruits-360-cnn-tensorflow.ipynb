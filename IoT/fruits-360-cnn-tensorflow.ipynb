{
 "cells": [
  {
   "cell_type": "markdown",
   "metadata": {
    "papermill": {
     "duration": 0.008092,
     "end_time": "2020-12-31T05:41:32.604401",
     "exception": false,
     "start_time": "2020-12-31T05:41:32.596309",
     "status": "completed"
    },
    "tags": []
   },
   "source": [
    "# Fruits 360 - Convolutional Neural Networks Using TensorFlow"
   ]
  },
  {
   "cell_type": "code",
   "execution_count": 2,
   "metadata": {
    "_cell_guid": "b1076dfc-b9ad-4769-8c92-a6c4dae69d19",
    "_uuid": "8f2839f25d086af736a60e9eeb907d3b93b6e0e5",
    "execution": {
     "iopub.execute_input": "2020-12-31T05:41:32.626028Z",
     "iopub.status.busy": "2020-12-31T05:41:32.625382Z",
     "iopub.status.idle": "2020-12-31T05:41:37.888097Z",
     "shell.execute_reply": "2020-12-31T05:41:37.887009Z"
    },
    "papermill": {
     "duration": 5.27596,
     "end_time": "2020-12-31T05:41:37.888217",
     "exception": false,
     "start_time": "2020-12-31T05:41:32.612257",
     "status": "completed"
    },
    "tags": []
   },
   "outputs": [
    {
     "name": "stdout",
     "output_type": "stream",
     "text": [
      "INFO:tensorflow:Using local port 23237\n",
      "INFO:tensorflow:Using local port 20916\n",
      "INFO:tensorflow:Using local port 24422\n",
      "INFO:tensorflow:Using local port 19736\n",
      "INFO:tensorflow:Using local port 20217\n",
      "INFO:tensorflow:Using local port 21555\n",
      "INFO:tensorflow:Using local port 21322\n",
      "INFO:tensorflow:Using local port 22923\n",
      "INFO:tensorflow:Using local port 23585\n",
      "INFO:tensorflow:Using local port 22695\n"
     ]
    }
   ],
   "source": [
    "import tensorflow as tf\n",
    "from tensorflow import keras\n",
    "from tensorflow.keras import layers\n",
    "from tensorflow.keras.preprocessing import image_dataset_from_directory\n",
    "from tensorflow.keras.callbacks import EarlyStopping\n",
    "import matplotlib.pyplot as plt\n",
    "import numpy as np\n",
    "import pandas as pd"
   ]
  },
  {
   "cell_type": "code",
   "execution_count": 3,
   "metadata": {},
   "outputs": [
    {
     "ename": "DistutilsFileError",
     "evalue": "cannot copy tree 'D:/data/fruits-360/Training/Pomegranate': not a directory",
     "output_type": "error",
     "traceback": [
      "\u001b[1;31m---------------------------------------------------------------------------\u001b[0m",
      "\u001b[1;31mDistutilsFileError\u001b[0m                        Traceback (most recent call last)",
      "\u001b[1;32m<ipython-input-3-3f809f97c0d5>\u001b[0m in \u001b[0;36m<module>\u001b[1;34m\u001b[0m\n\u001b[0;32m     18\u001b[0m \u001b[1;33m\u001b[0m\u001b[0m\n\u001b[0;32m     19\u001b[0m \u001b[1;32mfor\u001b[0m \u001b[0mf\u001b[0m \u001b[1;32min\u001b[0m \u001b[0mfruits\u001b[0m\u001b[1;33m:\u001b[0m\u001b[1;33m\u001b[0m\u001b[1;33m\u001b[0m\u001b[0m\n\u001b[1;32m---> 20\u001b[1;33m     \u001b[0mcopy_tree\u001b[0m\u001b[1;33m(\u001b[0m\u001b[1;34m\"D:/data/fruits-360/Training/\"\u001b[0m\u001b[1;33m+\u001b[0m\u001b[0mf\u001b[0m\u001b[1;33m,\u001b[0m \u001b[1;34m\"D:/data/fruits-10-high-calorie/Training/\"\u001b[0m\u001b[1;33m+\u001b[0m\u001b[0mf\u001b[0m\u001b[1;33m)\u001b[0m\u001b[1;33m\u001b[0m\u001b[1;33m\u001b[0m\u001b[0m\n\u001b[0m\u001b[0;32m     21\u001b[0m     \u001b[0mcopy_tree\u001b[0m\u001b[1;33m(\u001b[0m\u001b[1;34m\"D:/data/fruits-360/Test/\"\u001b[0m\u001b[1;33m+\u001b[0m\u001b[0mf\u001b[0m\u001b[1;33m,\u001b[0m \u001b[1;34m\"D:/data/fruits-10-high-calorie/Test/\"\u001b[0m\u001b[1;33m+\u001b[0m\u001b[0mf\u001b[0m\u001b[1;33m)\u001b[0m\u001b[1;33m\u001b[0m\u001b[1;33m\u001b[0m\u001b[0m\n",
      "\u001b[1;32m~\\anaconda3\\lib\\distutils\\dir_util.py\u001b[0m in \u001b[0;36mcopy_tree\u001b[1;34m(src, dst, preserve_mode, preserve_times, preserve_symlinks, update, verbose, dry_run)\u001b[0m\n\u001b[0;32m    121\u001b[0m \u001b[1;33m\u001b[0m\u001b[0m\n\u001b[0;32m    122\u001b[0m     \u001b[1;32mif\u001b[0m \u001b[1;32mnot\u001b[0m \u001b[0mdry_run\u001b[0m \u001b[1;32mand\u001b[0m \u001b[1;32mnot\u001b[0m \u001b[0mos\u001b[0m\u001b[1;33m.\u001b[0m\u001b[0mpath\u001b[0m\u001b[1;33m.\u001b[0m\u001b[0misdir\u001b[0m\u001b[1;33m(\u001b[0m\u001b[0msrc\u001b[0m\u001b[1;33m)\u001b[0m\u001b[1;33m:\u001b[0m\u001b[1;33m\u001b[0m\u001b[1;33m\u001b[0m\u001b[0m\n\u001b[1;32m--> 123\u001b[1;33m         raise DistutilsFileError(\n\u001b[0m\u001b[0;32m    124\u001b[0m               \"cannot copy tree '%s': not a directory\" % src)\n\u001b[0;32m    125\u001b[0m     \u001b[1;32mtry\u001b[0m\u001b[1;33m:\u001b[0m\u001b[1;33m\u001b[0m\u001b[1;33m\u001b[0m\u001b[0m\n",
      "\u001b[1;31mDistutilsFileError\u001b[0m: cannot copy tree 'D:/data/fruits-360/Training/Pomegranate': not a directory"
     ]
    }
   ],
   "source": [
    "import os\n",
    "from distutils.dir_util import copy_tree\n",
    "\n",
    "\n",
    "fruits = '''\n",
    "Pomegranate\n",
    "Kaki\n",
    "Pear\n",
    "Avocado\n",
    "Banana\n",
    "Dates\n",
    "Cocos\n",
    "Mangostan\n",
    "Lychee\n",
    "Mulberry\n",
    "\n",
    "'''.split()\n",
    "\n",
    "for f in fruits:\n",
    "    copy_tree(\"D:/data/fruits-360/Training/\"+f, \"D:/data/fruits-10-high-calorie/Training/\"+f)\n",
    "    copy_tree(\"D:/data/fruits-360/Test/\"+f, \"D:/data/fruits-10-high-calorie/Test/\"+f)\n"
   ]
  },
  {
   "cell_type": "markdown",
   "metadata": {
    "papermill": {
     "duration": 0.007404,
     "end_time": "2020-12-31T05:41:37.903353",
     "exception": false,
     "start_time": "2020-12-31T05:41:37.895949",
     "status": "completed"
    },
    "tags": []
   },
   "source": [
    "## Creating Data Pipelines"
   ]
  },
  {
   "cell_type": "code",
   "execution_count": 5,
   "metadata": {
    "execution": {
     "iopub.execute_input": "2020-12-31T05:41:37.927209Z",
     "iopub.status.busy": "2020-12-31T05:41:37.926626Z",
     "iopub.status.idle": "2020-12-31T05:41:49.052853Z",
     "shell.execute_reply": "2020-12-31T05:41:49.054099Z"
    },
    "papermill": {
     "duration": 11.143638,
     "end_time": "2020-12-31T05:41:49.054316",
     "exception": false,
     "start_time": "2020-12-31T05:41:37.910678",
     "status": "completed"
    },
    "tags": []
   },
   "outputs": [
    {
     "name": "stdout",
     "output_type": "stream",
     "text": [
      "Found 4653 files belonging to 10 classes.\n",
      "Found 1567 files belonging to 10 classes.\n"
     ]
    }
   ],
   "source": [
    "train_ds_ = image_dataset_from_directory(\n",
    "    'D:/data/fruits-10-high-calorie/Training',\n",
    "    labels='inferred',\n",
    "    label_mode='categorical',\n",
    "    image_size=(100,100),\n",
    "    interpolation='nearest',\n",
    "    shuffle=True,\n",
    "    batch_size=512\n",
    ")\n",
    "\n",
    "test_ds_ = image_dataset_from_directory(\n",
    "    'D:/data//fruits-10-high-calorie/Test',\n",
    "    labels='inferred',\n",
    "    label_mode='categorical',\n",
    "    image_size=(100,100),\n",
    "    interpolation='nearest',\n",
    "    shuffle=False,\n",
    "    batch_size=512\n",
    ")\n",
    "\n",
    "# Pipeline\n",
    "def convert_to_float(image, label):\n",
    "    image = image / 255\n",
    "    return image, label\n",
    "\n",
    "AUTOTUNE = tf.data.experimental.AUTOTUNE\n",
    "\n",
    "train_ds = (\n",
    "    train_ds_\n",
    "    .map(convert_to_float)\n",
    "    .cache()\n",
    "    .prefetch(buffer_size=AUTOTUNE)\n",
    ")\n",
    "\n",
    "test_ds = (\n",
    "    test_ds_\n",
    "    .map(convert_to_float)\n",
    "    .cache()\n",
    "    .prefetch(buffer_size=AUTOTUNE)\n",
    ")"
   ]
  },
  {
   "cell_type": "markdown",
   "metadata": {
    "papermill": {
     "duration": 0.01179,
     "end_time": "2020-12-31T05:41:49.080060",
     "exception": false,
     "start_time": "2020-12-31T05:41:49.068270",
     "status": "completed"
    },
    "tags": []
   },
   "source": [
    "## Defining the Model"
   ]
  },
  {
   "cell_type": "code",
   "execution_count": 6,
   "metadata": {
    "execution": {
     "iopub.execute_input": "2020-12-31T05:41:49.117447Z",
     "iopub.status.busy": "2020-12-31T05:41:49.116472Z",
     "iopub.status.idle": "2020-12-31T05:41:49.256822Z",
     "shell.execute_reply": "2020-12-31T05:41:49.255767Z"
    },
    "papermill": {
     "duration": 0.164601,
     "end_time": "2020-12-31T05:41:49.256957",
     "exception": false,
     "start_time": "2020-12-31T05:41:49.092356",
     "status": "completed"
    },
    "tags": []
   },
   "outputs": [],
   "source": [
    "model = keras.Sequential([\n",
    "    layers.Conv2D(filters=32, kernel_size=(3,3), strides=(1,1), activation='relu', input_shape=(100,100,3)),\n",
    "    layers.MaxPool2D(pool_size=(2,2), strides=(2,2)),\n",
    "    layers.Conv2D(filters=64, kernel_size=(3,3), strides=(1,1), activation='relu'),\n",
    "    layers.MaxPool2D(pool_size=(2,2), strides=(2,2)),\n",
    "    layers.Conv2D(filters=128, kernel_size=(3,3), strides=(1,1), activation='relu'),\n",
    "    layers.MaxPool2D(pool_size=(2,2), strides=(2,2)),\n",
    "    layers.Conv2D(filters=256, kernel_size=(3,3), strides=(1,1), activation='relu'),\n",
    "    layers.MaxPool2D(pool_size=(2,2), strides=(2,2)),\n",
    "    layers.Flatten(),\n",
    "    layers.Dense(128, activation='relu'),\n",
    "    layers.Dense(train_ds._flat_shapes[1][1], activation='softmax')\n",
    "])"
   ]
  },
  {
   "cell_type": "code",
   "execution_count": 7,
   "metadata": {
    "execution": {
     "iopub.execute_input": "2020-12-31T05:41:49.287507Z",
     "iopub.status.busy": "2020-12-31T05:41:49.286381Z",
     "iopub.status.idle": "2020-12-31T05:41:49.300513Z",
     "shell.execute_reply": "2020-12-31T05:41:49.301016Z"
    },
    "papermill": {
     "duration": 0.034828,
     "end_time": "2020-12-31T05:41:49.301142",
     "exception": false,
     "start_time": "2020-12-31T05:41:49.266314",
     "status": "completed"
    },
    "tags": []
   },
   "outputs": [
    {
     "name": "stdout",
     "output_type": "stream",
     "text": [
      "Model: \"sequential\"\n",
      "_________________________________________________________________\n",
      "Layer (type)                 Output Shape              Param #   \n",
      "=================================================================\n",
      "conv2d (Conv2D)              (None, 98, 98, 32)        896       \n",
      "_________________________________________________________________\n",
      "max_pooling2d (MaxPooling2D) (None, 49, 49, 32)        0         \n",
      "_________________________________________________________________\n",
      "conv2d_1 (Conv2D)            (None, 47, 47, 64)        18496     \n",
      "_________________________________________________________________\n",
      "max_pooling2d_1 (MaxPooling2 (None, 23, 23, 64)        0         \n",
      "_________________________________________________________________\n",
      "conv2d_2 (Conv2D)            (None, 21, 21, 128)       73856     \n",
      "_________________________________________________________________\n",
      "max_pooling2d_2 (MaxPooling2 (None, 10, 10, 128)       0         \n",
      "_________________________________________________________________\n",
      "conv2d_3 (Conv2D)            (None, 8, 8, 256)         295168    \n",
      "_________________________________________________________________\n",
      "max_pooling2d_3 (MaxPooling2 (None, 4, 4, 256)         0         \n",
      "_________________________________________________________________\n",
      "flatten (Flatten)            (None, 4096)              0         \n",
      "_________________________________________________________________\n",
      "dense (Dense)                (None, 128)               524416    \n",
      "_________________________________________________________________\n",
      "dense_1 (Dense)              (None, 10)                1290      \n",
      "=================================================================\n",
      "Total params: 914,122\n",
      "Trainable params: 914,122\n",
      "Non-trainable params: 0\n",
      "_________________________________________________________________\n"
     ]
    }
   ],
   "source": [
    "model.compile(optimizer='adam', loss='categorical_crossentropy', metrics=['accuracy'])\n",
    "model.summary()"
   ]
  },
  {
   "cell_type": "markdown",
   "metadata": {
    "papermill": {
     "duration": 0.008692,
     "end_time": "2020-12-31T05:41:49.318721",
     "exception": false,
     "start_time": "2020-12-31T05:41:49.310029",
     "status": "completed"
    },
    "tags": []
   },
   "source": [
    "## Training the Model"
   ]
  },
  {
   "cell_type": "code",
   "execution_count": 8,
   "metadata": {
    "execution": {
     "iopub.execute_input": "2020-12-31T05:41:49.341956Z",
     "iopub.status.busy": "2020-12-31T05:41:49.341366Z",
     "iopub.status.idle": "2020-12-31T05:51:31.743805Z",
     "shell.execute_reply": "2020-12-31T05:51:31.742792Z"
    },
    "papermill": {
     "duration": 582.416308,
     "end_time": "2020-12-31T05:51:31.743956",
     "exception": false,
     "start_time": "2020-12-31T05:41:49.327648",
     "status": "completed"
    },
    "tags": []
   },
   "outputs": [
    {
     "name": "stdout",
     "output_type": "stream",
     "text": [
      "Epoch 1/500\n",
      "10/10 [==============================] - 30s 3s/step - loss: 2.0714 - accuracy: 0.2717 - val_loss: 1.2630 - val_accuracy: 0.4876\n",
      "Epoch 2/500\n",
      "10/10 [==============================] - 24s 2s/step - loss: 0.8007 - accuracy: 0.7009 - val_loss: 0.5990 - val_accuracy: 0.7569\n",
      "Epoch 3/500\n",
      "10/10 [==============================] - 24s 2s/step - loss: 0.2297 - accuracy: 0.9158 - val_loss: 0.4057 - val_accuracy: 0.8315\n",
      "Epoch 4/500\n",
      "10/10 [==============================] - 24s 2s/step - loss: 0.0588 - accuracy: 0.9840 - val_loss: 0.1403 - val_accuracy: 0.9630\n",
      "Epoch 5/500\n",
      "10/10 [==============================] - 24s 2s/step - loss: 0.0095 - accuracy: 0.9997 - val_loss: 0.0823 - val_accuracy: 0.9738\n",
      "Epoch 6/500\n",
      "10/10 [==============================] - 24s 2s/step - loss: 0.0032 - accuracy: 0.9995 - val_loss: 0.1655 - val_accuracy: 0.9585\n",
      "Epoch 7/500\n",
      "10/10 [==============================] - 25s 3s/step - loss: 0.0011 - accuracy: 0.9998 - val_loss: 0.0490 - val_accuracy: 0.9930\n",
      "Epoch 8/500\n",
      "10/10 [==============================] - 27s 3s/step - loss: 3.9614e-04 - accuracy: 1.0000 - val_loss: 0.0487 - val_accuracy: 0.9949\n",
      "Epoch 9/500\n",
      "10/10 [==============================] - 28s 3s/step - loss: 2.4066e-04 - accuracy: 1.0000 - val_loss: 0.0500 - val_accuracy: 0.9930\n",
      "Epoch 10/500\n",
      "10/10 [==============================] - 27s 3s/step - loss: 1.5288e-04 - accuracy: 1.0000 - val_loss: 0.0628 - val_accuracy: 0.9840\n",
      "Epoch 11/500\n",
      "10/10 [==============================] - 28s 3s/step - loss: 9.0338e-05 - accuracy: 1.0000 - val_loss: 0.0649 - val_accuracy: 0.9840\n",
      "Epoch 12/500\n",
      "10/10 [==============================] - 27s 3s/step - loss: 7.4949e-05 - accuracy: 1.0000 - val_loss: 0.0578 - val_accuracy: 0.9872\n"
     ]
    }
   ],
   "source": [
    "early_stopping = EarlyStopping(\n",
    "    min_delta=1e-3,\n",
    "    patience=5,\n",
    "    restore_best_weights=True\n",
    ")\n",
    "\n",
    "history = model.fit(\n",
    "    train_ds,\n",
    "    batch_size=512,\n",
    "    validation_data=(test_ds),\n",
    "    callbacks=[early_stopping],\n",
    "    epochs=500,\n",
    "    verbose=1\n",
    ")"
   ]
  },
  {
   "cell_type": "markdown",
   "metadata": {
    "papermill": {
     "duration": 0.500582,
     "end_time": "2020-12-31T05:51:32.756009",
     "exception": false,
     "start_time": "2020-12-31T05:51:32.255427",
     "status": "completed"
    },
    "tags": []
   },
   "source": [
    "## Plotting Train and Validation Accuracy and Loss"
   ]
  },
  {
   "cell_type": "code",
   "execution_count": 9,
   "metadata": {
    "execution": {
     "iopub.execute_input": "2020-12-31T05:51:33.808620Z",
     "iopub.status.busy": "2020-12-31T05:51:33.807995Z",
     "iopub.status.idle": "2020-12-31T05:51:34.366126Z",
     "shell.execute_reply": "2020-12-31T05:51:34.365475Z"
    },
    "papermill": {
     "duration": 1.100861,
     "end_time": "2020-12-31T05:51:34.366265",
     "exception": false,
     "start_time": "2020-12-31T05:51:33.265404",
     "status": "completed"
    },
    "tags": []
   },
   "outputs": [
    {
     "data": {
      "image/png": "[encoded data removed]",
      "text/plain": [
       "<Figure size 432x288 with 1 Axes>"
      ]
     },
     "metadata": {
      "needs_background": "light"
     },
     "output_type": "display_data"
    },
    {
     "data": {
      "image/png": "[encoded data removed]",
      "text/plain": [
       "<Figure size 432x288 with 1 Axes>"
      ]
     },
     "metadata": {
      "needs_background": "light"
     },
     "output_type": "display_data"
    }
   ],
   "source": [
    "fit_hist = pd.DataFrame(history.history)\n",
    "\n",
    "loss = round(np.min(fit_hist['loss']), 2)\n",
    "val_loss = round(np.min(fit_hist['val_loss']), 2)\n",
    "acc = round(np.max(fit_hist['accuracy']), 2)\n",
    "val_acc = round(np.max(fit_hist['val_accuracy']), 2)\n",
    "\n",
    "plt.title(f\"Train Loss ({loss}) and Validation Loss ({val_loss})\")\n",
    "plt.plot(fit_hist['loss'], label='Train Loss')\n",
    "plt.plot(fit_hist['val_loss'], label='Val Loss')\n",
    "plt.xlabel('Epoch')\n",
    "plt.ylabel('Loss')\n",
    "plt.grid(color='#e6e6e6')\n",
    "plt.legend()\n",
    "plt.show()\n",
    "\n",
    "plt.title(f\"Train Accuracy ({acc}) and Validation Accuracy ({val_acc})\")\n",
    "plt.plot(fit_hist['accuracy'], label='Train Acc')\n",
    "plt.plot(fit_hist['val_accuracy'], label='Val Acc')\n",
    "plt.xlabel('Epoch')\n",
    "plt.ylabel('Accuracy')\n",
    "plt.grid(color='#e6e6e6')\n",
    "plt.legend()\n",
    "plt.show()"
   ]
  },
  {
   "cell_type": "code",
   "execution_count": 23,
   "metadata": {
    "scrolled": true
   },
   "outputs": [
    {
     "name": "stdout",
     "output_type": "stream",
     "text": [
      "tf.Tensor(\n",
      "[[[255 255 255]\n",
      "  [255 255 255]\n",
      "  [255 255 255]\n",
      "  ...\n",
      "  [255 255 255]\n",
      "  [255 255 255]\n",
      "  [255 255 255]]\n",
      "\n",
      " [[255 255 255]\n",
      "  [255 255 255]\n",
      "  [255 255 255]\n",
      "  ...\n",
      "  [255 255 255]\n",
      "  [255 255 255]\n",
      "  [255 255 255]]\n",
      "\n",
      " [[255 255 255]\n",
      "  [255 255 255]\n",
      "  [255 255 255]\n",
      "  ...\n",
      "  [255 255 255]\n",
      "  [255 255 255]\n",
      "  [255 255 255]]\n",
      "\n",
      " ...\n",
      "\n",
      " [[255 255 255]\n",
      "  [255 255 255]\n",
      "  [255 255 255]\n",
      "  ...\n",
      "  [255 255 255]\n",
      "  [255 255 255]\n",
      "  [255 255 255]]\n",
      "\n",
      " [[255 255 255]\n",
      "  [255 255 255]\n",
      "  [255 255 255]\n",
      "  ...\n",
      "  [255 255 255]\n",
      "  [255 255 255]\n",
      "  [255 255 255]]\n",
      "\n",
      " [[255 255 255]\n",
      "  [255 255 255]\n",
      "  [255 255 255]\n",
      "  ...\n",
      "  [255 255 255]\n",
      "  [255 255 255]\n",
      "  [255 255 255]]], shape=(100, 100, 3), dtype=uint8)\n"
     ]
    }
   ],
   "source": [
    "for x in test_ds_:\n",
    "    x0=x\n",
    "    break\n",
    "\n",
    "print(x0[0][0])"
   ]
  },
  {
   "cell_type": "code",
   "execution_count": 88,
   "metadata": {
    "scrolled": false
   },
   "outputs": [],
   "source": [
    "def predict_visual(index=0):\n",
    "    plt.imshow(x0[0][index])\n",
    "    predicted_tsr = model.predict(tf.expand_dims(x0[0][index],0))[0]\n",
    "    return get_fruit_name(predicted_tsr)"
   ]
  },
  {
   "cell_type": "code",
   "execution_count": 107,
   "metadata": {},
   "outputs": [
    {
     "data": {
      "text/plain": [
       "'Mulberry'"
      ]
     },
     "execution_count": 107,
     "metadata": {},
     "output_type": "execute_result"
    },
    {
     "data": {
      "image/png": "[encoded data removed]",
      "text/plain": [
       "<Figure size 432x288 with 1 Axes>"
      ]
     },
     "metadata": {
      "needs_background": "light"
     },
     "output_type": "display_data"
    }
   ],
   "source": [
    "predict_visual(490)"
   ]
  },
  {
   "cell_type": "code",
   "execution_count": 71,
   "metadata": {},
   "outputs": [
    {
     "data": {
      "text/plain": [
       "'Avocado'"
      ]
     },
     "execution_count": 71,
     "metadata": {},
     "output_type": "execute_result"
    }
   ],
   "source": [
    "get_fruit_name(model.predict(tf.expand_dims(x0[0][150],0)))"
   ]
  },
  {
   "cell_type": "code",
   "execution_count": 82,
   "metadata": {},
   "outputs": [
    {
     "data": {
      "text/plain": [
       "array([0., 1., 0., 0., 0., 0., 0., 0., 0., 0.], dtype=float32)"
      ]
     },
     "execution_count": 82,
     "metadata": {},
     "output_type": "execute_result"
    }
   ],
   "source": [
    "model.predict(tf.expand_dims(x0[0][150],0))[0]"
   ]
  },
  {
   "cell_type": "code",
   "execution_count": 83,
   "metadata": {},
   "outputs": [
    {
     "data": {
      "text/plain": [
       "(array([1], dtype=int64),)"
      ]
     },
     "execution_count": 83,
     "metadata": {},
     "output_type": "execute_result"
    }
   ],
   "source": [
    "np.where(model.predict(tf.expand_dims(x0[0][150],0))[0]==1)"
   ]
  },
  {
   "cell_type": "code",
   "execution_count": 72,
   "metadata": {},
   "outputs": [
    {
     "data": {
      "text/plain": [
       "<matplotlib.image.AxesImage at 0x211244f5490>"
      ]
     },
     "execution_count": 72,
     "metadata": {},
     "output_type": "execute_result"
    },
    {
     "data": {
      "image/png": "[encoded data removed]",
      "text/plain": [
       "<Figure size 432x288 with 1 Axes>"
      ]
     },
     "metadata": {
      "needs_background": "light"
     },
     "output_type": "display_data"
    }
   ],
   "source": [
    "plt.imshow(x0[0][150])"
   ]
  },
  {
   "cell_type": "code",
   "execution_count": 76,
   "metadata": {},
   "outputs": [
    {
     "data": {
      "text/plain": [
       "['Avocado',\n",
       " 'Banana',\n",
       " 'Cocos',\n",
       " 'Dates',\n",
       " 'Kaki',\n",
       " 'Lychee',\n",
       " 'Mangostan',\n",
       " 'Mulberry',\n",
       " 'Pear',\n",
       " 'Pomegranate']"
      ]
     },
     "execution_count": 76,
     "metadata": {},
     "output_type": "execute_result"
    }
   ],
   "source": [
    "fruits"
   ]
  },
  {
   "cell_type": "code",
   "execution_count": 41,
   "metadata": {},
   "outputs": [
    {
     "data": {
      "text/plain": [
       "array([0., 1., 0., 0., 0., 0., 0., 0., 0., 0.], dtype=float32)"
      ]
     },
     "execution_count": 41,
     "metadata": {},
     "output_type": "execute_result"
    }
   ],
   "source": []
  },
  {
   "cell_type": "code",
   "execution_count": 63,
   "metadata": {},
   "outputs": [],
   "source": [
    "import os\n",
    "fruits = os.listdir(\"D:/data/fruits-10-high-calorie/Training/\")\n",
    "\n",
    "def get_fruit_name(tsr):\n",
    "    return fruits[np.where(tsr==1)[0][0]]"
   ]
  },
  {
   "cell_type": "code",
   "execution_count": 77,
   "metadata": {},
   "outputs": [
    {
     "data": {
      "text/plain": [
       "'Banana'"
      ]
     },
     "execution_count": 77,
     "metadata": {},
     "output_type": "execute_result"
    }
   ],
   "source": [
    "fruits[1]"
   ]
  },
  {
   "cell_type": "code",
   "execution_count": 110,
   "metadata": {},
   "outputs": [
    {
     "data": {
      "text/plain": [
       "['Avocado',\n",
       " 'Banana',\n",
       " 'Cocos',\n",
       " 'Dates',\n",
       " 'Kaki',\n",
       " 'Lychee',\n",
       " 'Mangostan',\n",
       " 'Mulberry',\n",
       " 'Pear',\n",
       " 'Pomegranate']"
      ]
     },
     "execution_count": 110,
     "metadata": {},
     "output_type": "execute_result"
    }
   ],
   "source": [
    "fruits"
   ]
  },
  {
   "cell_type": "code",
   "execution_count": null,
   "metadata": {},
   "outputs": [],
   "source": []
  }
 ],
 "metadata": {
  "kernelspec": {
   "display_name": "Python 3",
   "language": "python",
   "name": "python3"
  },
  "language_info": {
   "codemirror_mode": {
    "name": "ipython",
    "version": 3
   },
   "file_extension": ".py",
   "mimetype": "text/x-python",
   "name": "python",
   "nbconvert_exporter": "python",
   "pygments_lexer": "ipython3",
   "version": "3.8.3"
  },
  "papermill": {
   "duration": 608.986715,
   "end_time": "2020-12-31T05:51:37.181453",
   "environment_variables": {},
   "exception": null,
   "input_path": "__notebook__.ipynb",
   "output_path": "__notebook__.ipynb",
   "parameters": {},
   "start_time": "2020-12-31T05:41:28.194738",
   "version": "2.1.0"
  }
 },
 "nbformat": 4,
 "nbformat_minor": 4
}
