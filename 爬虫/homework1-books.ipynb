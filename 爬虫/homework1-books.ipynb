{
 "cells": [
  {
   "cell_type": "code",
   "execution_count": 1,
   "metadata": {},
   "outputs": [],
   "source": [
    "import requests\n",
    "from bs4 import BeautifulSoup as bs"
   ]
  },
  {
   "cell_type": "code",
   "execution_count": 9,
   "metadata": {},
   "outputs": [],
   "source": [
    "url = 'http://search.dangdang.com/?key=%BD%BB%CD%A8&act=input&page_index='\n",
    "html = requests.get(url+str(1)).text"
   ]
  },
  {
   "cell_type": "code",
   "execution_count": 10,
   "metadata": {},
   "outputs": [],
   "source": [
    "soup = bs(html)"
   ]
  },
  {
   "cell_type": "code",
   "execution_count": 23,
   "metadata": {},
   "outputs": [
    {
     "data": {
      "text/plain": [
       "'暖萌科学绘本 好忙好酷的交通工具'"
      ]
     },
     "execution_count": 23,
     "metadata": {},
     "output_type": "execute_result"
    }
   ],
   "source": [
    "soup.select('.bigimg')[0].select('li')[0].select('.pic')[0]['title'].strip()"
   ]
  },
  {
   "cell_type": "code",
   "execution_count": 19,
   "metadata": {},
   "outputs": [
    {
     "data": {
      "text/plain": [
       "<li class=\"line1\" ddt-pit=\"1\" id=\"p25272813\">\n",
       "<a class=\"pic\" dd_name=\"单品图片\" ddclick=\"act=normalResult_picture&amp;pos=25272813_0_1_q\" href=\"http://product.dangdang.com/25272813.html\" name=\"itemlist-picture\" target=\"_blank\" title=\" 暖萌科学绘本 好忙好酷的交通工具\"><img alt=\" 暖萌科学绘本 好忙好酷的交通工具\" src=\"http://img3m3.ddimg.cn/93/0/25272813-1_b_3.jpg\"/><p class=\"cool_label\"></p></a><p class=\"name\" name=\"title\"><a dd_name=\"单品标题\" ddclick=\"act=normalResult_title&amp;pos=25272813_0_1_q\" href=\"http://product.dangdang.com/25272813.html\" name=\"itemlist-title\" target=\"_blank\" title=\" 暖萌科学绘本 好忙好酷的交通工具 好忙好酷的交通工具：情境对话式幼儿交通百科，全景展现古今交通工具。带领孩子了解交通工具的丰富知识，学会遵守交通规则，树立交通安全意识。\"> 暖萌科学绘本 好忙好酷的<font class=\"skcolor_ljg\">交通</font>工具 好忙好酷的交通工具：情境对话式幼儿交通百科，全景展现古今交通工具。带领孩子了解交通工具的丰富知识，学会遵守交通规则，树立交通安全意识。</a></p><p class=\"detail\">※ 著名儿童教育专家为3-6岁孩子特别定制。</p><p class=\"price\"> <span class=\"search_now_price\">¥19.40</span><a class=\"search_discount\" style=\"text-decoration:none;\">定价：</a><span class=\"search_pre_price\">¥24.90</span><span class=\"search_discount\"> (7.8折) </span></p><div class=\"lable_label\"><span class=\"new_lable\" y=\"\"></span></div><p class=\"search_star_line\"><span class=\"search_star_black\"><span style=\"width: 90%;\"></span></span><a class=\"search_comment_num\" dd_name=\"单品评论\" ddclick=\"act=click_review_count&amp;pos=25272813_0_1_q\" href=\"http://product.dangdang.com/25272813.html?point=comment_point\" name=\"itemlist-review\" target=\"_blank\">15276条评论</a></p><span class=\"tag_box\"></span><p class=\"search_book_author\"><span><a dd_name=\"单品作者\" href=\"http://search.dangdang.com/?key2=徐继东&amp;medium=01&amp;category_path=01.00.00.00.00.00\" name=\"itemlist-author\" title=\"徐继东\">徐继东</a></span><span> /2018-06-01</span><span>  /<a dd_name=\"单品出版社\" href=\"http://search.dangdang.com/?key=&amp;key3=%B1%B1%BE%A9%C1%AA%BA%CF%B3%F6%B0%E6%D3%D0%CF%DE%B9%AB%CB%BE&amp;medium=01&amp;category_path=01.00.00.00.00.00\" name=\"P_cbs\" title=\"北京联合出版有限公司\">北京联合出版有限公司</a></span></p><div class=\"shop_button\"><p class=\"bottom_p\"><a class=\"search_btn_cart\" dd_name=\"加入购物车\" ddclick=\"act=normalResult_addToCart&amp;pos=25272813_0_1_q\" href=\"javascript:AddToShoppingCart(25272813)\" name=\"Buy\">加入购物车</a><a class=\"search_btn_collect\" dd_name=\"加入收藏\" ddclick=\"act=normalResult_favor&amp;pos=25272813_0_1_q\" href=\"javascript:void(0);\" id=\"lcase25272813\" name=\"collect\">收藏</a></p></div> </li>"
      ]
     },
     "execution_count": 19,
     "metadata": {},
     "output_type": "execute_result"
    }
   ],
   "source": [
    "soup.select('.bigimg')[0].select('li')[0]"
   ]
  },
  {
   "cell_type": "code",
   "execution_count": 31,
   "metadata": {},
   "outputs": [
    {
     "data": {
      "text/plain": [
       "'河北科技出版社'"
      ]
     },
     "execution_count": 31,
     "metadata": {},
     "output_type": "execute_result"
    }
   ],
   "source": [
    "soup.select('.bigimg')[0].select('li')[1].select('a[name=P_cbs]')[0].text"
   ]
  },
  {
   "cell_type": "code",
   "execution_count": null,
   "metadata": {},
   "outputs": [],
   "source": [
    "soup.select('.bigimg')[0].select('li')[0]"
   ]
  }
 ],
 "metadata": {
  "kernelspec": {
   "display_name": "Python 3",
   "language": "python",
   "name": "python3"
  },
  "language_info": {
   "codemirror_mode": {
    "name": "ipython",
    "version": 3
   },
   "file_extension": ".py",
   "mimetype": "text/x-python",
   "name": "python",
   "nbconvert_exporter": "python",
   "pygments_lexer": "ipython3",
   "version": "3.8.3"
  }
 },
 "nbformat": 4,
 "nbformat_minor": 4
}
