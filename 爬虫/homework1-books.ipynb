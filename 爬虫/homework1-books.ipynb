{
 "cells": [
  {
   "cell_type": "code",
   "execution_count": 1,
   "metadata": {},
   "outputs": [],
   "source": [
    "def selectOne(line, exp, index=0):\n",
    "    res = line.select(exp)\n",
    "    if not res:\n",
    "        return None\n",
    "    if len(res) <= index:\n",
    "        return None\n",
    "    return res[index].text.strip()"
   ]
  },
  {
   "cell_type": "code",
   "execution_count": 3,
   "metadata": {},
   "outputs": [
    {
     "name": "stdout",
     "output_type": "stream",
     "text": [
      "page 1, total 60\n",
      "page 2, total 120\n",
      "page 3, total 180\n",
      "page 4, total 240\n",
      "page 5, total 300\n",
      "page 6, total 360\n",
      "page 7, total 420\n",
      "page 8, total 480\n",
      "page 9, total 540\n",
      "page 10, total 600\n",
      "finished crawling!\n"
     ]
    }
   ],
   "source": [
    "import time\n",
    "import requests\n",
    "import xlsxwriter\n",
    "from bs4 import BeautifulSoup as bs\n",
    "\n",
    "workbook = xlsxwriter.Workbook('books%s.xlsx'%str(time.time()))\n",
    "worksheet = workbook.add_worksheet()\n",
    "worksheet.write(0, 0, 'NO')\n",
    "worksheet.write(0, 1, 'Book Title')\n",
    "worksheet.write(0, 2, 'Author')\n",
    "worksheet.write(0, 3, 'Publisher')\n",
    "worksheet.write(0, 4, 'URL')\n",
    "\n",
    "\n",
    "row = 1\n",
    "for page in range(1,11):\n",
    "    url = 'http://search.dangdang.com/?key=%BD%BB%CD%A8&act=input&page_index='\n",
    "    html = requests.get(url+str(page)).text\n",
    "    soup = bs(html)\n",
    "    for line in soup.select('.bigimg')[0].select('li'):\n",
    "        try:\n",
    "            worksheet.write(row, 0, row)\n",
    "            worksheet.write(row, 1, selectOne(line, 'a[dd_name=单品标题]'))\n",
    "            worksheet.write(row, 2, selectOne(line, 'a[dd_name=单品作者]'))\n",
    "            worksheet.write(row, 3, selectOne(line, 'a[dd_name=单品出版社]'))\n",
    "            worksheet.write(row, 4, line.select('a[dd_name=单品标题]')[0]['href'])\n",
    "        except Exception as e:\n",
    "            print('error:'+str(line))\n",
    "            print(str(e))\n",
    "        row += 1\n",
    "    print('page '+ str(page)+', total '+str(row-1))\n",
    "\n",
    "workbook.close()\n",
    "print('finished crawling!')"
   ]
  },
  {
   "cell_type": "code",
   "execution_count": null,
   "metadata": {},
   "outputs": [],
   "source": []
  }
 ],
 "metadata": {
  "kernelspec": {
   "display_name": "Python 3",
   "language": "python",
   "name": "python3"
  },
  "language_info": {
   "codemirror_mode": {
    "name": "ipython",
    "version": 3
   },
   "file_extension": ".py",
   "mimetype": "text/x-python",
   "name": "python",
   "nbconvert_exporter": "python",
   "pygments_lexer": "ipython3",
   "version": "3.8.3"
  }
 },
 "nbformat": 4,
 "nbformat_minor": 4
}
